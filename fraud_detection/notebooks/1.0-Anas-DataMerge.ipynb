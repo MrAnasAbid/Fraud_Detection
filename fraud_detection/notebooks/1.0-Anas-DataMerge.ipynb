{
 "cells": [
  {
   "cell_type": "code",
   "execution_count": 3,
   "metadata": {},
   "outputs": [
    {
     "data": {
      "text/plain": [
       "'c:\\\\Users\\\\mabid\\\\OneDrive\\\\Desktop\\\\Projects - Ongoing\\\\BNP Credit Card Fraud Detection\\\\fraud_detection\\\\notebooks'"
      ]
     },
     "execution_count": 3,
     "metadata": {},
     "output_type": "execute_result"
    }
   ],
   "source": [
    "import pandas as pd\n",
    "import numpy as np\n",
    "import matplotlib.pyplot as plt\n",
    "\n",
    "import os\n",
    "os.getcwd()"
   ]
  },
  {
   "cell_type": "code",
   "execution_count": 7,
   "metadata": {},
   "outputs": [
    {
     "name": "stderr",
     "output_type": "stream",
     "text": [
      "C:\\Users\\mabid\\AppData\\Local\\Temp\\ipykernel_20932\\2012380725.py:1: DtypeWarning: Columns (21,22,23,24,69,70,71,72,93,94,95,96,97,104,105,106,107,108,109,110,111,112,113,114,115,116,117,118,119,120) have mixed types. Specify dtype option on import or set low_memory=False.\n",
      "  X_train = pd.read_csv('../data/raw/X_train_G3tdtEn.csv')\n",
      "C:\\Users\\mabid\\AppData\\Local\\Temp\\ipykernel_20932\\2012380725.py:2: DtypeWarning: Columns (20,21,22,23,24,68,69,70,71,72,92,93,94,95,96,97,106,107,108,109,110,111,112,113,114,115,116,117,118) have mixed types. Specify dtype option on import or set low_memory=False.\n",
      "  X_test = pd.read_csv('../data/raw/X_test.csv')\n"
     ]
    }
   ],
   "source": [
    "X_train = pd.read_csv('../data/raw/X_train_G3tdtEn.csv')\n",
    "X_test = pd.read_csv('../data/raw/X_test.csv')\n",
    "\n",
    "y_train = pd.read_csv('../data/raw/Y_train_2_XPXJDyy.csv')\n",
    "y_test = pd.read_csv('../data/raw/Y_test_random_2.csv')"
   ]
  },
  {
   "cell_type": "code",
   "execution_count": 24,
   "metadata": {},
   "outputs": [],
   "source": [
    "data_train = pd.merge(X_train, y_train[[\"ID\", \"fraud_flag\"]], on='ID')\n",
    "data_train.set_index('ID', inplace=True)\n",
    "\n",
    "data_train.to_csv('../data/processed/model_building_data.csv')"
   ]
  },
  {
   "cell_type": "code",
   "execution_count": 25,
   "metadata": {},
   "outputs": [],
   "source": [
    "data_submission = pd.merge(X_test, y_test[[\"ID\", \"fraud_flag\"]], on='ID')\n",
    "data_submission.set_index('ID', inplace=True)\n",
    "\n",
    "data_submission.to_csv('../data/processed/data_submission.csv')"
   ]
  }
 ],
 "metadata": {
  "kernelspec": {
   "display_name": "Python 3",
   "language": "python",
   "name": "python3"
  },
  "language_info": {
   "codemirror_mode": {
    "name": "ipython",
    "version": 3
   },
   "file_extension": ".py",
   "mimetype": "text/x-python",
   "name": "python",
   "nbconvert_exporter": "python",
   "pygments_lexer": "ipython3",
   "version": "3.11.5"
  }
 },
 "nbformat": 4,
 "nbformat_minor": 2
}
